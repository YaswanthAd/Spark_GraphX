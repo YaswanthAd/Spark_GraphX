{
  "nbformat": 4,
  "nbformat_minor": 0,
  "metadata": {
    "colab": {
      "provenance": [],
      "gpuType": "T4",
      "include_colab_link": true
    },
    "kernelspec": {
      "display_name": "Python 3",
      "name": "python3"
    },
    "language_info": {
      "codemirror_mode": {
        "name": "ipython",
        "version": 3
      },
      "file_extension": ".py",
      "mimetype": "text/x-python",
      "name": "python",
      "nbconvert_exporter": "python",
      "pygments_lexer": "ipython3",
      "version": "3.6.5"
    },
    "accelerator": "GPU"
  },
  "cells": [
    {
      "cell_type": "markdown",
      "metadata": {
        "id": "view-in-github",
        "colab_type": "text"
      },
      "source": [
        "<a href=\"https://colab.research.google.com/github/YaswanthAd/Spark_GraphX/blob/main/GraphFrames.ipynb\" target=\"_parent\"><img src=\"https://colab.research.google.com/assets/colab-badge.svg\" alt=\"Open In Colab\"/></a>"
      ]
    },
    {
      "cell_type": "markdown",
      "metadata": {
        "id": "iox_ufgbqDXa"
      },
      "source": [
        "<h1><center>Apache Spark GraphFrames</center></h1>"
      ]
    },
    {
      "cell_type": "markdown",
      "metadata": {
        "id": "1qV6Grv7qIa9"
      },
      "source": [
        "Let's run GraphFrame code on Google Colab and see if it's faster than Databricks."
      ]
    },
    {
      "cell_type": "markdown",
      "metadata": {
        "id": "Dd6t0uFzuR4X"
      },
      "source": [
        "\n",
        "### Installing Spark"
      ]
    },
    {
      "cell_type": "markdown",
      "metadata": {
        "id": "6apGVff5h4ca"
      },
      "source": [
        "Install Dependencies:\n",
        "\n",
        "\n",
        "1.   Java 8\n",
        "2.   Apache Spark with hadoop and\n",
        "3.   Findspark (used to locate the spark in the system)\n"
      ]
    },
    {
      "cell_type": "code",
      "source": [
        "!rm -rf spark-3.1.1-bin-hadoop3.2"
      ],
      "metadata": {
        "id": "CFdihR9S3lav"
      },
      "execution_count": 1,
      "outputs": []
    },
    {
      "cell_type": "code",
      "metadata": {
        "id": "tt7ZS1_wGgjn",
        "colab": {
          "base_uri": "https://localhost:8080/"
        },
        "outputId": "1839c3dd-4bb1-44ca-8840-0b825b6580ba"
      },
      "source": [
        "!apt-get install openjdk-8-jdk-headless -qq > /dev/null\n",
        "#!wget -q --show-progress http://archive.apache.org/dist/spark/spark-3.1.1/spark-3.1.1-bin-hadoop3.2.tgz\n",
        "#!tar xf spark-3.1.1-bin-hadoop3.2.tgz\n",
        "!pip install -q findspark pyspark\n",
        "#!pip -q install findspark pyspark graphframes"
      ],
      "execution_count": 2,
      "outputs": [
        {
          "output_type": "stream",
          "name": "stdout",
          "text": [
            "\u001b[2K     \u001b[90m━━━━━━━━━━━━━━━━━━━━━━━━━━━━━━━━━━━━━━━━\u001b[0m \u001b[32m316.9/316.9 MB\u001b[0m \u001b[31m2.9 MB/s\u001b[0m eta \u001b[36m0:00:00\u001b[0m\n",
            "\u001b[?25h  Preparing metadata (setup.py) ... \u001b[?25l\u001b[?25hdone\n",
            "  Building wheel for pyspark (setup.py) ... \u001b[?25l\u001b[?25hdone\n"
          ]
        }
      ]
    },
    {
      "cell_type": "markdown",
      "metadata": {
        "id": "C3x0ZRLxjMVr"
      },
      "source": [
        "Set Environment Variables:"
      ]
    },
    {
      "cell_type": "code",
      "metadata": {
        "id": "sdOOq4twHN1K"
      },
      "source": [
        "import os\n",
        "os.environ[\"JAVA_HOME\"] = \"/usr/lib/jvm/java-8-openjdk-amd64\"\n",
        "#os.environ[\"SPARK_HOME\"] = \"/content/spark-3.1.1-bin-hadoop3.2\""
      ],
      "execution_count": 3,
      "outputs": []
    },
    {
      "cell_type": "code",
      "metadata": {
        "id": "3ACYMwhgHTYz",
        "colab": {
          "base_uri": "https://localhost:8080/"
        },
        "outputId": "32e389dc-4eac-494f-b092-7e32228fd224"
      },
      "source": [
        "!ls"
      ],
      "execution_count": 4,
      "outputs": [
        {
          "output_type": "stream",
          "name": "stdout",
          "text": [
            "sample_data\n"
          ]
        }
      ]
    },
    {
      "cell_type": "code",
      "source": [
        "!pip show pyspark"
      ],
      "metadata": {
        "colab": {
          "base_uri": "https://localhost:8080/"
        },
        "id": "2UyTMRZMNc-P",
        "outputId": "27c79e78-18b1-4443-b06d-7fc983297fc8"
      },
      "execution_count": 5,
      "outputs": [
        {
          "output_type": "stream",
          "name": "stdout",
          "text": [
            "Name: pyspark\n",
            "Version: 3.5.0\n",
            "Summary: Apache Spark Python API\n",
            "Home-page: https://github.com/apache/spark/tree/master/python\n",
            "Author: Spark Developers\n",
            "Author-email: dev@spark.apache.org\n",
            "License: http://www.apache.org/licenses/LICENSE-2.0\n",
            "Location: /usr/local/lib/python3.10/dist-packages\n",
            "Requires: py4j\n",
            "Required-by: \n"
          ]
        }
      ]
    },
    {
      "cell_type": "markdown",
      "source": [
        "### Installing GraphFrames"
      ],
      "metadata": {
        "id": "h80DxqoaCbJK"
      }
    },
    {
      "cell_type": "code",
      "source": [
        "!pip install graphframes"
      ],
      "metadata": {
        "id": "_PYxeVmcjt2A",
        "colab": {
          "base_uri": "https://localhost:8080/"
        },
        "outputId": "a5b8ab65-2972-40ce-d2d0-dd46b276b1aa"
      },
      "execution_count": 6,
      "outputs": [
        {
          "output_type": "stream",
          "name": "stdout",
          "text": [
            "Collecting graphframes\n",
            "  Downloading graphframes-0.6-py2.py3-none-any.whl (18 kB)\n",
            "Requirement already satisfied: numpy in /usr/local/lib/python3.10/dist-packages (from graphframes) (1.23.5)\n",
            "Collecting nose (from graphframes)\n",
            "  Downloading nose-1.3.7-py3-none-any.whl (154 kB)\n",
            "\u001b[2K     \u001b[90m━━━━━━━━━━━━━━━━━━━━━━━━━━━━━━━━━━━━━━━━\u001b[0m \u001b[32m154.7/154.7 kB\u001b[0m \u001b[31m5.0 MB/s\u001b[0m eta \u001b[36m0:00:00\u001b[0m\n",
            "\u001b[?25hInstalling collected packages: nose, graphframes\n",
            "Successfully installed graphframes-0.6 nose-1.3.7\n"
          ]
        }
      ]
    },
    {
      "cell_type": "code",
      "source": [
        "!python -V"
      ],
      "metadata": {
        "colab": {
          "base_uri": "https://localhost:8080/"
        },
        "id": "fvBrk95ANPcA",
        "outputId": "833554bc-3065-4ede-ab5a-bf7e53faa728"
      },
      "execution_count": 7,
      "outputs": [
        {
          "output_type": "stream",
          "name": "stdout",
          "text": [
            "Python 3.10.12\n"
          ]
        }
      ]
    },
    {
      "cell_type": "code",
      "source": [
        "!curl -L -o \"/usr/local/lib/python3.10/dist-packages/pyspark/jars/graphframes-0.8.2-spark3.3.2-s_2.11.jar\" https://repos.spark-packages.org/graphframes/graphframes/0.8.2-spark3.1-s_2.12/graphframes-0.8.2-spark3.1-s_2.12.jar"
      ],
      "metadata": {
        "colab": {
          "base_uri": "https://localhost:8080/"
        },
        "id": "ImOiBbPIPRYI",
        "outputId": "8578d842-4f0c-493b-e79a-b322ca2a8100"
      },
      "execution_count": 8,
      "outputs": [
        {
          "output_type": "stream",
          "name": "stdout",
          "text": [
            "  % Total    % Received % Xferd  Average Speed   Time    Time     Time  Current\n",
            "                                 Dload  Upload   Total   Spent    Left  Speed\n",
            "100  242k  100  242k    0     0   724k      0 --:--:-- --:--:-- --:--:--  726k\n"
          ]
        }
      ]
    },
    {
      "cell_type": "code",
      "source": [
        "!ls /usr/local/lib/python3.10/dist-packages/pyspark/jars/"
      ],
      "metadata": {
        "colab": {
          "base_uri": "https://localhost:8080/"
        },
        "id": "ZJx9yuqmN7Lt",
        "outputId": "63e64772-875e-4132-b89e-904ae71e3bd5"
      },
      "execution_count": 9,
      "outputs": [
        {
          "output_type": "stream",
          "name": "stdout",
          "text": [
            "activation-1.1.1.jar\n",
            "aircompressor-0.25.jar\n",
            "algebra_2.12-2.0.1.jar\n",
            "annotations-17.0.0.jar\n",
            "antlr4-runtime-4.9.3.jar\n",
            "antlr-runtime-3.5.2.jar\n",
            "aopalliance-repackaged-2.6.1.jar\n",
            "arpack-3.0.3.jar\n",
            "arpack_combined_all-0.1.jar\n",
            "arrow-format-12.0.1.jar\n",
            "arrow-memory-core-12.0.1.jar\n",
            "arrow-memory-netty-12.0.1.jar\n",
            "arrow-vector-12.0.1.jar\n",
            "audience-annotations-0.5.0.jar\n",
            "avro-1.11.2.jar\n",
            "avro-ipc-1.11.2.jar\n",
            "avro-mapred-1.11.2.jar\n",
            "blas-3.0.3.jar\n",
            "bonecp-0.8.0.RELEASE.jar\n",
            "breeze_2.12-2.1.0.jar\n",
            "breeze-macros_2.12-2.1.0.jar\n",
            "cats-kernel_2.12-2.1.1.jar\n",
            "chill_2.12-0.10.0.jar\n",
            "chill-java-0.10.0.jar\n",
            "commons-cli-1.5.0.jar\n",
            "commons-codec-1.16.0.jar\n",
            "commons-collections-3.2.2.jar\n",
            "commons-collections4-4.4.jar\n",
            "commons-compiler-3.1.9.jar\n",
            "commons-compress-1.23.0.jar\n",
            "commons-crypto-1.1.0.jar\n",
            "commons-dbcp-1.4.jar\n",
            "commons-io-2.13.0.jar\n",
            "commons-lang-2.6.jar\n",
            "commons-lang3-3.12.0.jar\n",
            "commons-logging-1.1.3.jar\n",
            "commons-math3-3.6.1.jar\n",
            "commons-pool-1.5.4.jar\n",
            "commons-text-1.10.0.jar\n",
            "compress-lzf-1.1.2.jar\n",
            "curator-client-2.13.0.jar\n",
            "curator-framework-2.13.0.jar\n",
            "curator-recipes-2.13.0.jar\n",
            "datanucleus-api-jdo-4.2.4.jar\n",
            "datanucleus-core-4.1.17.jar\n",
            "datanucleus-rdbms-4.1.19.jar\n",
            "datasketches-java-3.3.0.jar\n",
            "datasketches-memory-2.1.0.jar\n",
            "derby-10.14.2.0.jar\n",
            "dropwizard-metrics-hadoop-metrics2-reporter-0.1.2.jar\n",
            "flatbuffers-java-1.12.0.jar\n",
            "graphframes-0.8.2-spark3.3.2-s_2.11.jar\n",
            "gson-2.2.4.jar\n",
            "guava-14.0.1.jar\n",
            "hadoop-client-api-3.3.4.jar\n",
            "hadoop-client-runtime-3.3.4.jar\n",
            "hadoop-shaded-guava-1.1.1.jar\n",
            "hadoop-yarn-server-web-proxy-3.3.4.jar\n",
            "HikariCP-2.5.1.jar\n",
            "hive-beeline-2.3.9.jar\n",
            "hive-cli-2.3.9.jar\n",
            "hive-common-2.3.9.jar\n",
            "hive-exec-2.3.9-core.jar\n",
            "hive-jdbc-2.3.9.jar\n",
            "hive-llap-common-2.3.9.jar\n",
            "hive-metastore-2.3.9.jar\n",
            "hive-serde-2.3.9.jar\n",
            "hive-service-rpc-3.1.3.jar\n",
            "hive-shims-0.23-2.3.9.jar\n",
            "hive-shims-2.3.9.jar\n",
            "hive-shims-common-2.3.9.jar\n",
            "hive-shims-scheduler-2.3.9.jar\n",
            "hive-storage-api-2.8.1.jar\n",
            "hk2-api-2.6.1.jar\n",
            "hk2-locator-2.6.1.jar\n",
            "hk2-utils-2.6.1.jar\n",
            "httpclient-4.5.14.jar\n",
            "httpcore-4.4.16.jar\n",
            "istack-commons-runtime-3.0.8.jar\n",
            "ivy-2.5.1.jar\n",
            "jackson-annotations-2.15.2.jar\n",
            "jackson-core-2.15.2.jar\n",
            "jackson-core-asl-1.9.13.jar\n",
            "jackson-databind-2.15.2.jar\n",
            "jackson-dataformat-yaml-2.15.2.jar\n",
            "jackson-datatype-jsr310-2.15.2.jar\n",
            "jackson-mapper-asl-1.9.13.jar\n",
            "jackson-module-scala_2.12-2.15.2.jar\n",
            "jakarta.annotation-api-1.3.5.jar\n",
            "jakarta.inject-2.6.1.jar\n",
            "jakarta.servlet-api-4.0.3.jar\n",
            "jakarta.validation-api-2.0.2.jar\n",
            "jakarta.ws.rs-api-2.1.6.jar\n",
            "jakarta.xml.bind-api-2.3.2.jar\n",
            "janino-3.1.9.jar\n",
            "javassist-3.29.2-GA.jar\n",
            "javax.jdo-3.2.0-m3.jar\n",
            "javolution-5.5.1.jar\n",
            "jaxb-runtime-2.3.2.jar\n",
            "jcl-over-slf4j-2.0.7.jar\n",
            "jdo-api-3.0.1.jar\n",
            "jersey-client-2.40.jar\n",
            "jersey-common-2.40.jar\n",
            "jersey-container-servlet-2.40.jar\n",
            "jersey-container-servlet-core-2.40.jar\n",
            "jersey-hk2-2.40.jar\n",
            "jersey-server-2.40.jar\n",
            "JLargeArrays-1.5.jar\n",
            "jline-2.14.6.jar\n",
            "joda-time-2.12.5.jar\n",
            "jodd-core-3.5.2.jar\n",
            "jpam-1.1.jar\n",
            "json-1.8.jar\n",
            "json4s-ast_2.12-3.7.0-M11.jar\n",
            "json4s-core_2.12-3.7.0-M11.jar\n",
            "json4s-jackson_2.12-3.7.0-M11.jar\n",
            "json4s-scalap_2.12-3.7.0-M11.jar\n",
            "jsr305-3.0.0.jar\n",
            "jta-1.1.jar\n",
            "JTransforms-3.1.jar\n",
            "jul-to-slf4j-2.0.7.jar\n",
            "kryo-shaded-4.0.2.jar\n",
            "kubernetes-client-6.7.2.jar\n",
            "kubernetes-client-api-6.7.2.jar\n",
            "kubernetes-httpclient-okhttp-6.7.2.jar\n",
            "kubernetes-model-admissionregistration-6.7.2.jar\n",
            "kubernetes-model-apiextensions-6.7.2.jar\n",
            "kubernetes-model-apps-6.7.2.jar\n",
            "kubernetes-model-autoscaling-6.7.2.jar\n",
            "kubernetes-model-batch-6.7.2.jar\n",
            "kubernetes-model-certificates-6.7.2.jar\n",
            "kubernetes-model-common-6.7.2.jar\n",
            "kubernetes-model-coordination-6.7.2.jar\n",
            "kubernetes-model-core-6.7.2.jar\n",
            "kubernetes-model-discovery-6.7.2.jar\n",
            "kubernetes-model-events-6.7.2.jar\n",
            "kubernetes-model-extensions-6.7.2.jar\n",
            "kubernetes-model-flowcontrol-6.7.2.jar\n",
            "kubernetes-model-gatewayapi-6.7.2.jar\n",
            "kubernetes-model-metrics-6.7.2.jar\n",
            "kubernetes-model-networking-6.7.2.jar\n",
            "kubernetes-model-node-6.7.2.jar\n",
            "kubernetes-model-policy-6.7.2.jar\n",
            "kubernetes-model-rbac-6.7.2.jar\n",
            "kubernetes-model-resource-6.7.2.jar\n",
            "kubernetes-model-scheduling-6.7.2.jar\n",
            "kubernetes-model-storageclass-6.7.2.jar\n",
            "lapack-3.0.3.jar\n",
            "leveldbjni-all-1.8.jar\n",
            "libfb303-0.9.3.jar\n",
            "libthrift-0.12.0.jar\n",
            "log4j-1.2-api-2.20.0.jar\n",
            "log4j-api-2.20.0.jar\n",
            "log4j-core-2.20.0.jar\n",
            "log4j-slf4j2-impl-2.20.0.jar\n",
            "logging-interceptor-3.12.12.jar\n",
            "lz4-java-1.8.0.jar\n",
            "mesos-1.4.3-shaded-protobuf.jar\n",
            "metrics-core-4.2.19.jar\n",
            "metrics-graphite-4.2.19.jar\n",
            "metrics-jmx-4.2.19.jar\n",
            "metrics-json-4.2.19.jar\n",
            "metrics-jvm-4.2.19.jar\n",
            "minlog-1.3.0.jar\n",
            "netty-all-4.1.96.Final.jar\n",
            "netty-buffer-4.1.96.Final.jar\n",
            "netty-codec-4.1.96.Final.jar\n",
            "netty-codec-http2-4.1.96.Final.jar\n",
            "netty-codec-http-4.1.96.Final.jar\n",
            "netty-codec-socks-4.1.96.Final.jar\n",
            "netty-common-4.1.96.Final.jar\n",
            "netty-handler-4.1.96.Final.jar\n",
            "netty-handler-proxy-4.1.96.Final.jar\n",
            "netty-resolver-4.1.96.Final.jar\n",
            "netty-transport-4.1.96.Final.jar\n",
            "netty-transport-classes-epoll-4.1.96.Final.jar\n",
            "netty-transport-classes-kqueue-4.1.96.Final.jar\n",
            "netty-transport-native-epoll-4.1.96.Final-linux-aarch_64.jar\n",
            "netty-transport-native-epoll-4.1.96.Final-linux-x86_64.jar\n",
            "netty-transport-native-kqueue-4.1.96.Final-osx-aarch_64.jar\n",
            "netty-transport-native-kqueue-4.1.96.Final-osx-x86_64.jar\n",
            "netty-transport-native-unix-common-4.1.96.Final.jar\n",
            "objenesis-3.3.jar\n",
            "okhttp-3.12.12.jar\n",
            "okio-1.15.0.jar\n",
            "opencsv-2.3.jar\n",
            "orc-core-1.9.1-shaded-protobuf.jar\n",
            "orc-mapreduce-1.9.1-shaded-protobuf.jar\n",
            "orc-shims-1.9.1.jar\n",
            "oro-2.0.8.jar\n",
            "osgi-resource-locator-1.0.3.jar\n",
            "paranamer-2.8.jar\n",
            "parquet-column-1.13.1.jar\n",
            "parquet-common-1.13.1.jar\n",
            "parquet-encoding-1.13.1.jar\n",
            "parquet-format-structures-1.13.1.jar\n",
            "parquet-hadoop-1.13.1.jar\n",
            "parquet-jackson-1.13.1.jar\n",
            "pickle-1.3.jar\n",
            "py4j-0.10.9.7.jar\n",
            "RoaringBitmap-0.9.45.jar\n",
            "rocksdbjni-8.3.2.jar\n",
            "scala-collection-compat_2.12-2.7.0.jar\n",
            "scala-compiler-2.12.18.jar\n",
            "scala-library-2.12.18.jar\n",
            "scala-parser-combinators_2.12-2.3.0.jar\n",
            "scala-reflect-2.12.18.jar\n",
            "scala-xml_2.12-2.1.0.jar\n",
            "shims-0.9.45.jar\n",
            "slf4j-api-2.0.7.jar\n",
            "snakeyaml-2.0.jar\n",
            "snakeyaml-engine-2.6.jar\n",
            "snappy-java-1.1.10.3.jar\n",
            "spark-catalyst_2.12-3.5.0.jar\n",
            "spark-common-utils_2.12-3.5.0.jar\n",
            "spark-core_2.12-3.5.0.jar\n",
            "spark-graphx_2.12-3.5.0.jar\n",
            "spark-hive_2.12-3.5.0.jar\n",
            "spark-hive-thriftserver_2.12-3.5.0.jar\n",
            "spark-kubernetes_2.12-3.5.0.jar\n",
            "spark-kvstore_2.12-3.5.0.jar\n",
            "spark-launcher_2.12-3.5.0.jar\n",
            "spark-mesos_2.12-3.5.0.jar\n",
            "spark-mllib_2.12-3.5.0.jar\n",
            "spark-mllib-local_2.12-3.5.0.jar\n",
            "spark-network-common_2.12-3.5.0.jar\n",
            "spark-network-shuffle_2.12-3.5.0.jar\n",
            "spark-repl_2.12-3.5.0.jar\n",
            "spark-sketch_2.12-3.5.0.jar\n",
            "spark-sql_2.12-3.5.0.jar\n",
            "spark-sql-api_2.12-3.5.0.jar\n",
            "spark-streaming_2.12-3.5.0.jar\n",
            "spark-tags_2.12-3.5.0.jar\n",
            "spark-unsafe_2.12-3.5.0.jar\n",
            "spark-yarn_2.12-3.5.0.jar\n",
            "spire_2.12-0.17.0.jar\n",
            "spire-macros_2.12-0.17.0.jar\n",
            "spire-platform_2.12-0.17.0.jar\n",
            "spire-util_2.12-0.17.0.jar\n",
            "ST4-4.0.4.jar\n",
            "stax-api-1.0.1.jar\n",
            "stream-2.9.6.jar\n",
            "super-csv-2.2.0.jar\n",
            "threeten-extra-1.7.1.jar\n",
            "tink-1.9.0.jar\n",
            "transaction-api-1.1.jar\n",
            "univocity-parsers-2.9.1.jar\n",
            "xbean-asm9-shaded-4.23.jar\n",
            "xz-1.9.jar\n",
            "zjsonpatch-0.3.0.jar\n",
            "zookeeper-3.6.3.jar\n",
            "zookeeper-jute-3.6.3.jar\n",
            "zstd-jni-1.5.5-4.jar\n"
          ]
        }
      ]
    },
    {
      "cell_type": "markdown",
      "source": [
        "### Starting Spark with Libraries Loaded"
      ],
      "metadata": {
        "id": "VGIaDORNCi6v"
      }
    },
    {
      "cell_type": "code",
      "source": [
        "import findspark\n",
        "findspark.init()\n",
        "from pyspark.sql import SparkSession\n",
        "\n",
        "spark = SparkSession.builder \\\n",
        "    .config(\"spark.jars\", \"/usr/local/lib/python3.9/dist-packages/pyspark/jars/graphframes-0.8.2-spark3.3.2-s_2.11.jar\") \\\n",
        "    .getOrCreate()\n",
        "\n",
        "spark.conf.set(\"spark.sql.repl.eagerEval.enabled\", True)  # Property used to format output tables better\\\n"
      ],
      "metadata": {
        "id": "ar1W2F-fVd9G"
      },
      "execution_count": 10,
      "outputs": []
    },
    {
      "cell_type": "markdown",
      "source": [
        "### Example Dataset"
      ],
      "metadata": {
        "id": "jdylpyZXCovt"
      }
    },
    {
      "cell_type": "code",
      "source": [
        "v = spark.createDataFrame([\n",
        "  (\"a\", \"Alice\", 34),\n",
        "  (\"b\", \"Bob\", 36),\n",
        "  (\"c\", \"Charlie\", 30),\n",
        "  (\"d\", \"David\", 29),\n",
        "  (\"e\", \"Esther\", 32),\n",
        "  (\"f\", \"Fanny\", 36),\n",
        "  (\"g\", \"Gabby\", 60)\n",
        "], [\"id\", \"name\", \"age\"])\n",
        "# Edge DataFrame\n",
        "e = spark.createDataFrame([\n",
        "  (\"a\", \"b\", \"friend\"),\n",
        "  (\"b\", \"c\", \"follow\"),\n",
        "  (\"c\", \"b\", \"follow\"),\n",
        "  (\"f\", \"c\", \"follow\"),\n",
        "  (\"e\", \"f\", \"follow\"),\n",
        "  (\"e\", \"d\", \"friend\"),\n",
        "  (\"d\", \"a\", \"friend\"),\n",
        "  (\"a\", \"e\", \"friend\")\n",
        "], [\"src\", \"dst\", \"relationship\"])\n",
        "# Create a GraphFram"
      ],
      "metadata": {
        "id": "oZy2LisOFpAF"
      },
      "execution_count": 11,
      "outputs": []
    },
    {
      "cell_type": "code",
      "source": [
        "from graphframes import *\n",
        "from graphframes import GraphFrame"
      ],
      "metadata": {
        "id": "-HwAVZTUMIqI"
      },
      "execution_count": 12,
      "outputs": []
    },
    {
      "cell_type": "code",
      "source": [
        "print('PySpark Version :'+spark.version)\n",
        "print('PySpark Version :'+spark.sparkContext.version)\n"
      ],
      "metadata": {
        "id": "E59CQbZIRtuY",
        "colab": {
          "base_uri": "https://localhost:8080/"
        },
        "outputId": "93d88939-bfde-4dbe-c01b-7ce089948df4"
      },
      "execution_count": 13,
      "outputs": [
        {
          "output_type": "stream",
          "name": "stdout",
          "text": [
            "PySpark Version :3.5.0\n",
            "PySpark Version :3.5.0\n"
          ]
        }
      ]
    },
    {
      "cell_type": "code",
      "source": [
        "g = GraphFrame(v, e)"
      ],
      "metadata": {
        "id": "z1qbyFDRQ8G4",
        "colab": {
          "base_uri": "https://localhost:8080/"
        },
        "outputId": "ae074805-2cb6-46bf-eeb7-e4c9ef3fb743"
      },
      "execution_count": 14,
      "outputs": [
        {
          "output_type": "stream",
          "name": "stderr",
          "text": [
            "/usr/local/lib/python3.10/dist-packages/pyspark/sql/dataframe.py:168: UserWarning: DataFrame.sql_ctx is an internal property, and will be removed in future releases. Use DataFrame.sparkSession instead.\n",
            "  warnings.warn(\n"
          ]
        }
      ]
    },
    {
      "cell_type": "code",
      "source": [
        "g.vertices.count()"
      ],
      "metadata": {
        "colab": {
          "base_uri": "https://localhost:8080/"
        },
        "id": "jOC4Hvf4yCTl",
        "outputId": "c00421c7-e22c-4693-8e96-24b5e9e82343"
      },
      "execution_count": 15,
      "outputs": [
        {
          "output_type": "execute_result",
          "data": {
            "text/plain": [
              "7"
            ]
          },
          "metadata": {},
          "execution_count": 15
        }
      ]
    },
    {
      "cell_type": "code",
      "source": [
        "g.edges.count()"
      ],
      "metadata": {
        "colab": {
          "base_uri": "https://localhost:8080/"
        },
        "id": "GUXax8QVyFVK",
        "outputId": "4784e31f-52ad-4fe5-ffb5-ac90bf33c138"
      },
      "execution_count": 16,
      "outputs": [
        {
          "output_type": "execute_result",
          "data": {
            "text/plain": [
              "8"
            ]
          },
          "metadata": {},
          "execution_count": 16
        }
      ]
    },
    {
      "cell_type": "code",
      "source": [
        "type(g.vertices)"
      ],
      "metadata": {
        "colab": {
          "base_uri": "https://localhost:8080/"
        },
        "id": "YTacQ1agyLh5",
        "outputId": "7e696561-8c61-407e-be20-85e684eef88c"
      },
      "execution_count": 17,
      "outputs": [
        {
          "output_type": "execute_result",
          "data": {
            "text/plain": [
              "pyspark.sql.dataframe.DataFrame"
            ]
          },
          "metadata": {},
          "execution_count": 17
        }
      ]
    },
    {
      "cell_type": "code",
      "source": [
        "g.vertices.select(\"name\").show()"
      ],
      "metadata": {
        "colab": {
          "base_uri": "https://localhost:8080/"
        },
        "id": "V7n2IqseyQ5X",
        "outputId": "54a122a8-f728-4228-ef21-abcaf97c732f"
      },
      "execution_count": 18,
      "outputs": [
        {
          "output_type": "stream",
          "name": "stdout",
          "text": [
            "+-------+\n",
            "|   name|\n",
            "+-------+\n",
            "|  Alice|\n",
            "|    Bob|\n",
            "|Charlie|\n",
            "|  David|\n",
            "| Esther|\n",
            "|  Fanny|\n",
            "|  Gabby|\n",
            "+-------+\n",
            "\n"
          ]
        }
      ]
    },
    {
      "cell_type": "code",
      "source": [
        "g.edges.select(\"relationship\").distinct().show()"
      ],
      "metadata": {
        "colab": {
          "base_uri": "https://localhost:8080/"
        },
        "id": "U5IQs9-_yZLN",
        "outputId": "8d9242ba-21fa-4376-c266-34b6f96c5c9c"
      },
      "execution_count": 19,
      "outputs": [
        {
          "output_type": "stream",
          "name": "stdout",
          "text": [
            "+------------+\n",
            "|relationship|\n",
            "+------------+\n",
            "|      friend|\n",
            "|      follow|\n",
            "+------------+\n",
            "\n"
          ]
        }
      ]
    },
    {
      "cell_type": "code",
      "source": [
        "g.edges.select(\"src\").distinct().show()"
      ],
      "metadata": {
        "colab": {
          "base_uri": "https://localhost:8080/"
        },
        "id": "elxpOL4xyf6d",
        "outputId": "741748ad-ef1f-4fff-edbf-65f4c6e11c00"
      },
      "execution_count": 20,
      "outputs": [
        {
          "output_type": "stream",
          "name": "stdout",
          "text": [
            "+---+\n",
            "|src|\n",
            "+---+\n",
            "|  f|\n",
            "|  c|\n",
            "|  b|\n",
            "|  a|\n",
            "|  e|\n",
            "|  d|\n",
            "+---+\n",
            "\n"
          ]
        }
      ]
    },
    {
      "cell_type": "code",
      "source": [
        "g.bfs(\"name = 'Alice'\", \"name = 'David'\").show()"
      ],
      "metadata": {
        "colab": {
          "base_uri": "https://localhost:8080/"
        },
        "id": "5MilCbHMzTQJ",
        "outputId": "e23d27ca-1208-433c-e76e-4c004d7a4ec6"
      },
      "execution_count": 21,
      "outputs": [
        {
          "output_type": "stream",
          "name": "stderr",
          "text": [
            "/usr/local/lib/python3.10/dist-packages/pyspark/sql/dataframe.py:147: UserWarning: DataFrame constructor is internal. Do not directly use it.\n",
            "  warnings.warn(\"DataFrame constructor is internal. Do not directly use it.\")\n"
          ]
        },
        {
          "output_type": "stream",
          "name": "stdout",
          "text": [
            "+--------------+--------------+---------------+--------------+--------------+\n",
            "|          from|            e0|             v1|            e1|            to|\n",
            "+--------------+--------------+---------------+--------------+--------------+\n",
            "|{a, Alice, 34}|{a, e, friend}|{e, Esther, 32}|{e, d, friend}|{d, David, 29}|\n",
            "+--------------+--------------+---------------+--------------+--------------+\n",
            "\n"
          ]
        }
      ]
    },
    {
      "cell_type": "code",
      "source": [
        "g.bfs(\"name = 'Esther'\", \"age  < 32\", \\\n",
        "      edgeFilter= \"relationship != 'friend'\", maxPathLength=4)"
      ],
      "metadata": {
        "colab": {
          "base_uri": "https://localhost:8080/",
          "height": 68
        },
        "id": "FlH2C3fAzz8H",
        "outputId": "3577adcc-ab8d-44c5-ec82-bca8cd37a2ce"
      },
      "execution_count": 22,
      "outputs": [
        {
          "output_type": "execute_result",
          "data": {
            "text/plain": [
              "+---------------+--------------+--------------+--------------+----------------+\n",
              "|           from|            e0|            v1|            e1|              to|\n",
              "+---------------+--------------+--------------+--------------+----------------+\n",
              "|{e, Esther, 32}|{e, f, follow}|{f, Fanny, 36}|{f, c, follow}|{c, Charlie, 30}|\n",
              "+---------------+--------------+--------------+--------------+----------------+"
            ],
            "text/html": [
              "<table border='1'>\n",
              "<tr><th>from</th><th>e0</th><th>v1</th><th>e1</th><th>to</th></tr>\n",
              "<tr><td>{e, Esther, 32}</td><td>{e, f, follow}</td><td>{f, Fanny, 36}</td><td>{f, c, follow}</td><td>{c, Charlie, 30}</td></tr>\n",
              "</table>\n"
            ]
          },
          "metadata": {},
          "execution_count": 22
        }
      ]
    },
    {
      "cell_type": "code",
      "source": [
        "\n",
        "# Search from \"Esther\" for users of age < 32.\n",
        "paths = g.bfs(\"name = 'Esther'\", \"age < 32\")\n",
        "paths.show()\n",
        "\n",
        "# Specify edge filters or max path lengths.\n",
        "g.bfs(\"name = 'Esther'\", \"age < 32\",\\\n",
        "  edgeFilter=\"relationship != 'friend'\", maxPathLength=3)"
      ],
      "metadata": {
        "colab": {
          "base_uri": "https://localhost:8080/",
          "height": 175
        },
        "id": "xIJKcudraWnT",
        "outputId": "52ff2287-2c84-45e6-b3a2-1370899e114b"
      },
      "execution_count": 23,
      "outputs": [
        {
          "output_type": "stream",
          "name": "stdout",
          "text": [
            "+---------------+--------------+--------------+\n",
            "|           from|            e0|            to|\n",
            "+---------------+--------------+--------------+\n",
            "|{e, Esther, 32}|{e, d, friend}|{d, David, 29}|\n",
            "+---------------+--------------+--------------+\n",
            "\n"
          ]
        },
        {
          "output_type": "execute_result",
          "data": {
            "text/plain": [
              "+---------------+--------------+--------------+--------------+----------------+\n",
              "|           from|            e0|            v1|            e1|              to|\n",
              "+---------------+--------------+--------------+--------------+----------------+\n",
              "|{e, Esther, 32}|{e, f, follow}|{f, Fanny, 36}|{f, c, follow}|{c, Charlie, 30}|\n",
              "+---------------+--------------+--------------+--------------+----------------+"
            ],
            "text/html": [
              "<table border='1'>\n",
              "<tr><th>from</th><th>e0</th><th>v1</th><th>e1</th><th>to</th></tr>\n",
              "<tr><td>{e, Esther, 32}</td><td>{e, f, follow}</td><td>{f, Fanny, 36}</td><td>{f, c, follow}</td><td>{c, Charlie, 30}</td></tr>\n",
              "</table>\n"
            ]
          },
          "metadata": {},
          "execution_count": 23
        }
      ]
    },
    {
      "cell_type": "code",
      "source": [
        "results = g.shortestPaths(landmarks=[\"a\", \"d\"])\n",
        "results.select(\"id\", \"distances\").show()"
      ],
      "metadata": {
        "colab": {
          "base_uri": "https://localhost:8080/"
        },
        "id": "rq-PdYf3fpz4",
        "outputId": "8a01526b-7d8b-4871-d962-bce9914726d3"
      },
      "execution_count": 24,
      "outputs": [
        {
          "output_type": "stream",
          "name": "stdout",
          "text": [
            "+---+----------------+\n",
            "| id|       distances|\n",
            "+---+----------------+\n",
            "|  a|{d -> 2, a -> 0}|\n",
            "|  b|              {}|\n",
            "|  c|              {}|\n",
            "|  d|{d -> 0, a -> 1}|\n",
            "|  e|{d -> 1, a -> 2}|\n",
            "|  f|              {}|\n",
            "|  g|              {}|\n",
            "+---+----------------+\n",
            "\n"
          ]
        }
      ]
    },
    {
      "cell_type": "code",
      "source": [
        "g.bfs(\"name = 'Alice'\", \"name = 'Charlie'\", edgeFilter=None, maxPathLength=2)"
      ],
      "metadata": {
        "colab": {
          "base_uri": "https://localhost:8080/",
          "height": 68
        },
        "id": "KEtu_Kyq-n5N",
        "outputId": "e30d89bb-5153-44ef-d576-62787e4cafc3"
      },
      "execution_count": 41,
      "outputs": [
        {
          "output_type": "execute_result",
          "data": {
            "text/plain": [
              "+--------------+--------------+------------+--------------+----------------+\n",
              "|          from|            e0|          v1|            e1|              to|\n",
              "+--------------+--------------+------------+--------------+----------------+\n",
              "|{a, Alice, 34}|{a, b, friend}|{b, Bob, 36}|{b, c, follow}|{c, Charlie, 30}|\n",
              "+--------------+--------------+------------+--------------+----------------+"
            ],
            "text/html": [
              "<table border='1'>\n",
              "<tr><th>from</th><th>e0</th><th>v1</th><th>e1</th><th>to</th></tr>\n",
              "<tr><td>{a, Alice, 34}</td><td>{a, b, friend}</td><td>{b, Bob, 36}</td><td>{b, c, follow}</td><td>{c, Charlie, 30}</td></tr>\n",
              "</table>\n"
            ]
          },
          "metadata": {},
          "execution_count": 41
        }
      ]
    },
    {
      "cell_type": "code",
      "source": [
        "#shortest path between two nodes\n",
        "g.bfs(fromExpr=\"name = 'Alice'\", toExpr= \"age > 20 and name!= 'Alice'\", \\\n",
        "      edgeFilter = None, maxPathLength=3)"
      ],
      "metadata": {
        "colab": {
          "base_uri": "https://localhost:8080/",
          "height": 127
        },
        "id": "nTlbKMQ50nMy",
        "outputId": "32f60f05-1065-4fda-c859-35ae9ac73470"
      },
      "execution_count": 44,
      "outputs": [
        {
          "output_type": "stream",
          "name": "stderr",
          "text": [
            "/usr/local/lib/python3.10/dist-packages/pyspark/sql/dataframe.py:147: UserWarning: DataFrame constructor is internal. Do not directly use it.\n",
            "  warnings.warn(\"DataFrame constructor is internal. Do not directly use it.\")\n"
          ]
        },
        {
          "output_type": "execute_result",
          "data": {
            "text/plain": [
              "+--------------+--------------+---------------+\n",
              "|          from|            e0|             to|\n",
              "+--------------+--------------+---------------+\n",
              "|{a, Alice, 34}|{a, b, friend}|   {b, Bob, 36}|\n",
              "|{a, Alice, 34}|{a, e, friend}|{e, Esther, 32}|\n",
              "+--------------+--------------+---------------+"
            ],
            "text/html": [
              "<table border='1'>\n",
              "<tr><th>from</th><th>e0</th><th>to</th></tr>\n",
              "<tr><td>{a, Alice, 34}</td><td>{a, b, friend}</td><td>{b, Bob, 36}</td></tr>\n",
              "<tr><td>{a, Alice, 34}</td><td>{a, e, friend}</td><td>{e, Esther, 32}</td></tr>\n",
              "</table>\n"
            ]
          },
          "metadata": {},
          "execution_count": 44
        }
      ]
    },
    {
      "cell_type": "code",
      "source": [
        "g1 = g.filterVertices(\"age > 30\").filterEdges(\"relationship = 'friend'\").dropIsolatedVertices()"
      ],
      "metadata": {
        "id": "pW3IA0iyf6ex"
      },
      "execution_count": 26,
      "outputs": []
    },
    {
      "cell_type": "code",
      "source": [
        "g1.vertices.show()"
      ],
      "metadata": {
        "colab": {
          "base_uri": "https://localhost:8080/"
        },
        "id": "wiyDYcYEf7ij",
        "outputId": "d79fb524-3316-4e76-ddd5-4c899390a6d9"
      },
      "execution_count": 27,
      "outputs": [
        {
          "output_type": "stream",
          "name": "stdout",
          "text": [
            "+---+------+---+\n",
            "| id|  name|age|\n",
            "+---+------+---+\n",
            "|  b|   Bob| 36|\n",
            "|  a| Alice| 34|\n",
            "|  e|Esther| 32|\n",
            "+---+------+---+\n",
            "\n"
          ]
        }
      ]
    },
    {
      "cell_type": "code",
      "source": [
        "g.inDegrees.show()"
      ],
      "metadata": {
        "colab": {
          "base_uri": "https://localhost:8080/"
        },
        "id": "kvKeWqHj3gFB",
        "outputId": "487e0520-75fe-4c77-e427-b70cf6a429a7"
      },
      "execution_count": 28,
      "outputs": [
        {
          "output_type": "stream",
          "name": "stdout",
          "text": [
            "+---+--------+\n",
            "| id|inDegree|\n",
            "+---+--------+\n",
            "|  c|       2|\n",
            "|  b|       2|\n",
            "|  f|       1|\n",
            "|  e|       1|\n",
            "|  d|       1|\n",
            "|  a|       1|\n",
            "+---+--------+\n",
            "\n"
          ]
        }
      ]
    },
    {
      "cell_type": "code",
      "source": [
        "g.outDegrees.show()"
      ],
      "metadata": {
        "colab": {
          "base_uri": "https://localhost:8080/"
        },
        "id": "N_OCp0-i3f6o",
        "outputId": "ea29e960-f75e-46d3-dfc8-766344ae00a6"
      },
      "execution_count": 29,
      "outputs": [
        {
          "output_type": "stream",
          "name": "stdout",
          "text": [
            "+---+---------+\n",
            "| id|outDegree|\n",
            "+---+---------+\n",
            "|  f|        1|\n",
            "|  c|        1|\n",
            "|  b|        1|\n",
            "|  a|        2|\n",
            "|  e|        2|\n",
            "|  d|        1|\n",
            "+---+---------+\n",
            "\n"
          ]
        }
      ]
    },
    {
      "cell_type": "code",
      "source": [
        "results = g.pageRank(resetProbability=0.15, tol = 0.1 )"
      ],
      "metadata": {
        "id": "I3BBJ_eU3fs7",
        "colab": {
          "base_uri": "https://localhost:8080/"
        },
        "outputId": "9879dd8a-21b0-4ea1-ddde-1be055b05c86"
      },
      "execution_count": 31,
      "outputs": [
        {
          "output_type": "stream",
          "name": "stderr",
          "text": [
            "/usr/local/lib/python3.10/dist-packages/pyspark/sql/dataframe.py:147: UserWarning: DataFrame constructor is internal. Do not directly use it.\n",
            "  warnings.warn(\"DataFrame constructor is internal. Do not directly use it.\")\n",
            "/usr/local/lib/python3.10/dist-packages/pyspark/sql/dataframe.py:168: UserWarning: DataFrame.sql_ctx is an internal property, and will be removed in future releases. Use DataFrame.sparkSession instead.\n",
            "  warnings.warn(\n"
          ]
        }
      ]
    },
    {
      "cell_type": "code",
      "source": [
        "g1.edges.show()"
      ],
      "metadata": {
        "colab": {
          "base_uri": "https://localhost:8080/"
        },
        "id": "4NA5CRC8gFTe",
        "outputId": "957ff894-5ac0-426f-9855-3c7b84d732c9"
      },
      "execution_count": 32,
      "outputs": [
        {
          "output_type": "stream",
          "name": "stdout",
          "text": [
            "+---+---+------------+\n",
            "|src|dst|relationship|\n",
            "+---+---+------------+\n",
            "|  a|  b|      friend|\n",
            "|  a|  e|      friend|\n",
            "+---+---+------------+\n",
            "\n"
          ]
        }
      ]
    },
    {
      "cell_type": "code",
      "source": [
        "sc = spark.sparkContext\n",
        "sc.setCheckpointDir(\"/tmp\")\n",
        "\n",
        "result = g.connectedComponents() #sets of nodes, where atleast one component from each to the other(undirected edge); g has no connections with other that is reason g has 6\n",
        "result.select(\"id\", \"component\").orderBy(\"component\").show()"
      ],
      "metadata": {
        "colab": {
          "base_uri": "https://localhost:8080/"
        },
        "id": "K1qgVLbWgvSJ",
        "outputId": "72d4e8f3-1db8-4069-df83-9558e1624a3a"
      },
      "execution_count": 33,
      "outputs": [
        {
          "output_type": "stream",
          "name": "stdout",
          "text": [
            "+---+---------+\n",
            "| id|component|\n",
            "+---+---------+\n",
            "|  a|        0|\n",
            "|  d|        0|\n",
            "|  b|        0|\n",
            "|  e|        0|\n",
            "|  c|        0|\n",
            "|  f|        0|\n",
            "|  g|        6|\n",
            "+---+---------+\n",
            "\n"
          ]
        }
      ]
    },
    {
      "cell_type": "code",
      "source": [
        "sc = spark.sparkContext\n",
        "sc.setCheckpointDir(\"/tmp\")\n",
        "\n",
        "result = g.stronglyConnectedComponents(maxIter=10) #sets of nodes; there is a direction connection between a&d, d&e, a&e, strongly connected there is a way to go from a to e, e to d, and d to a\n",
        "result.select(\"id\", \"component\").orderBy(\"component\").show()"
      ],
      "metadata": {
        "colab": {
          "base_uri": "https://localhost:8080/"
        },
        "id": "q190NKy74Tvf",
        "outputId": "3fbd3ab0-585b-475e-97db-e85e96bd47e2"
      },
      "execution_count": 34,
      "outputs": [
        {
          "output_type": "stream",
          "name": "stdout",
          "text": [
            "+---+---------+\n",
            "| id|component|\n",
            "+---+---------+\n",
            "|  a|        0|\n",
            "|  d|        0|\n",
            "|  e|        0|\n",
            "|  b|        1|\n",
            "|  c|        1|\n",
            "|  f|        5|\n",
            "|  g|        6|\n",
            "+---+---------+\n",
            "\n"
          ]
        }
      ]
    },
    {
      "cell_type": "code",
      "metadata": {
        "id": "xN5KhBOiZW3J",
        "colab": {
          "base_uri": "https://localhost:8080/"
        },
        "outputId": "fa32a3a6-9ad5-4027-b390-2f3da9b1612b"
      },
      "source": [
        "\n",
        "\n",
        "sc.setCheckpointDir(\"/tmp\")\n",
        "# Run PageRank until convergence to tolerance \"tol\".\n",
        "results = g.pageRank(resetProbability=0.15, tol=0.01)\n",
        "# Display resulting pageranks and final edge weights\n",
        "# Note that the displayed pagerank may be truncated, e.g., missing the E notation.\n",
        "# In Spark 1.5+, you can use show(truncate=False) to avoid truncation.\n",
        "results.vertices.select(\"id\", \"pagerank\").show()\n",
        "results.edges.select(\"src\", \"dst\", \"weight\").show()"
      ],
      "execution_count": 35,
      "outputs": [
        {
          "output_type": "stream",
          "name": "stdout",
          "text": [
            "+---+-------------------+\n",
            "| id|           pagerank|\n",
            "+---+-------------------+\n",
            "|  a|0.44910633706538744|\n",
            "|  b|  2.655507832863289|\n",
            "|  c| 2.6878300011606218|\n",
            "|  d| 0.3283606792049851|\n",
            "|  e|0.37085233187676075|\n",
            "|  f| 0.3283606792049851|\n",
            "|  g| 0.1799821386239711|\n",
            "+---+-------------------+\n",
            "\n",
            "+---+---+------+\n",
            "|src|dst|weight|\n",
            "+---+---+------+\n",
            "|  a|  b|   0.5|\n",
            "|  a|  e|   0.5|\n",
            "|  b|  c|   1.0|\n",
            "|  c|  b|   1.0|\n",
            "|  d|  a|   1.0|\n",
            "|  e|  d|   0.5|\n",
            "|  e|  f|   0.5|\n",
            "|  f|  c|   1.0|\n",
            "+---+---+------+\n",
            "\n"
          ]
        }
      ]
    },
    {
      "cell_type": "code",
      "source": [
        "results = g.shortestPaths(landmarks=[\"a\", \"d\"])\n",
        "results.select(\"id\", \"distances\").show()"
      ],
      "metadata": {
        "colab": {
          "base_uri": "https://localhost:8080/"
        },
        "id": "peDNrbnaAyRr",
        "outputId": "1a8bce50-465a-4870-b1fa-e01551f0dcb7"
      },
      "execution_count": 36,
      "outputs": [
        {
          "output_type": "stream",
          "name": "stdout",
          "text": [
            "+---+----------------+\n",
            "| id|       distances|\n",
            "+---+----------------+\n",
            "|  a|{d -> 2, a -> 0}|\n",
            "|  b|              {}|\n",
            "|  c|              {}|\n",
            "|  d|{d -> 0, a -> 1}|\n",
            "|  e|{d -> 1, a -> 2}|\n",
            "|  f|              {}|\n",
            "|  g|              {}|\n",
            "+---+----------------+\n",
            "\n"
          ]
        }
      ]
    },
    {
      "cell_type": "code",
      "source": [
        "results = g.triangleCount()\n",
        "results.select(\"id\", \"count\").show()"
      ],
      "metadata": {
        "colab": {
          "base_uri": "https://localhost:8080/"
        },
        "id": "3FvJN0TAAyzp",
        "outputId": "42348b54-aa29-4c11-a7a3-f81ba1c61955"
      },
      "execution_count": 37,
      "outputs": [
        {
          "output_type": "stream",
          "name": "stdout",
          "text": [
            "+---+-----+\n",
            "| id|count|\n",
            "+---+-----+\n",
            "|  c|    0|\n",
            "|  b|    0|\n",
            "|  a|    1|\n",
            "|  g|    0|\n",
            "|  f|    0|\n",
            "|  e|    1|\n",
            "|  d|    1|\n",
            "+---+-----+\n",
            "\n"
          ]
        }
      ]
    },
    {
      "cell_type": "code",
      "source": [
        "flights = spark.read.option(\"header\", \"true\").csv(\"/content/sample_data/T_T100D_SEGMENT_US_CARRIER_ONLY.csv\")"
      ],
      "metadata": {
        "id": "TSO2Kc9UK8Cz"
      },
      "execution_count": 45,
      "outputs": []
    },
    {
      "cell_type": "code",
      "source": [
        "airports = flights.select(\"ORIGIN_AIRPORT_ID\", \"ORIGIN\").toDF(\"id\",\"name\").distinct()"
      ],
      "metadata": {
        "id": "nqOKr74WDHI8"
      },
      "execution_count": 48,
      "outputs": []
    },
    {
      "cell_type": "code",
      "source": [
        "display(airports)"
      ],
      "metadata": {
        "colab": {
          "base_uri": "https://localhost:8080/",
          "height": 529
        },
        "id": "khcWZIbKDm2Q",
        "outputId": "49c67a0e-c3be-4030-bb92-b21a06c8753e"
      },
      "execution_count": 49,
      "outputs": [
        {
          "output_type": "display_data",
          "data": {
            "text/plain": [
              "+-----+----+\n",
              "|   id|name|\n",
              "+-----+----+\n",
              "|11086| CNO|\n",
              "|13230| MDT|\n",
              "|14006| PAH|\n",
              "|15153| TCL|\n",
              "|12635| KCG|\n",
              "|12916| LCI|\n",
              "|13342| MKE|\n",
              "|11559| ENN|\n",
              "|12365| IPT|\n",
              "|14122| PIT|\n",
              "|14512| RFD|\n",
              "|14543| RKS|\n",
              "|15171| TEK|\n",
              "|10747| BRO|\n",
              "|12184| HOM|\n",
              "|14130| PKA|\n",
              "|15012| STG|\n",
              "|10396| ATK|\n",
              "|10800| BUR|\n",
              "|12223| HTS|\n",
              "+-----+----+\n",
              "only showing top 20 rows"
            ],
            "text/html": [
              "<table border='1'>\n",
              "<tr><th>id</th><th>name</th></tr>\n",
              "<tr><td>11086</td><td>CNO</td></tr>\n",
              "<tr><td>13230</td><td>MDT</td></tr>\n",
              "<tr><td>14006</td><td>PAH</td></tr>\n",
              "<tr><td>15153</td><td>TCL</td></tr>\n",
              "<tr><td>12635</td><td>KCG</td></tr>\n",
              "<tr><td>12916</td><td>LCI</td></tr>\n",
              "<tr><td>13342</td><td>MKE</td></tr>\n",
              "<tr><td>11559</td><td>ENN</td></tr>\n",
              "<tr><td>12365</td><td>IPT</td></tr>\n",
              "<tr><td>14122</td><td>PIT</td></tr>\n",
              "<tr><td>14512</td><td>RFD</td></tr>\n",
              "<tr><td>14543</td><td>RKS</td></tr>\n",
              "<tr><td>15171</td><td>TEK</td></tr>\n",
              "<tr><td>10747</td><td>BRO</td></tr>\n",
              "<tr><td>12184</td><td>HOM</td></tr>\n",
              "<tr><td>14130</td><td>PKA</td></tr>\n",
              "<tr><td>15012</td><td>STG</td></tr>\n",
              "<tr><td>10396</td><td>ATK</td></tr>\n",
              "<tr><td>10800</td><td>BUR</td></tr>\n",
              "<tr><td>12223</td><td>HTS</td></tr>\n",
              "</table>\n",
              "only showing top 20 rows\n"
            ]
          },
          "metadata": {}
        }
      ]
    },
    {
      "cell_type": "code",
      "source": [
        "airports.show()"
      ],
      "metadata": {
        "colab": {
          "base_uri": "https://localhost:8080/"
        },
        "id": "9BhiU2gQDoDv",
        "outputId": "e3208e47-67f6-48ba-e03f-2a24e81f0d3f"
      },
      "execution_count": 50,
      "outputs": [
        {
          "output_type": "stream",
          "name": "stdout",
          "text": [
            "+-----+----+\n",
            "|   id|name|\n",
            "+-----+----+\n",
            "|11086| CNO|\n",
            "|13230| MDT|\n",
            "|14006| PAH|\n",
            "|15153| TCL|\n",
            "|12635| KCG|\n",
            "|12916| LCI|\n",
            "|13342| MKE|\n",
            "|11559| ENN|\n",
            "|12365| IPT|\n",
            "|14122| PIT|\n",
            "|14512| RFD|\n",
            "|14543| RKS|\n",
            "|15171| TEK|\n",
            "|10747| BRO|\n",
            "|12184| HOM|\n",
            "|14130| PKA|\n",
            "|15012| STG|\n",
            "|10396| ATK|\n",
            "|10800| BUR|\n",
            "|12223| HTS|\n",
            "+-----+----+\n",
            "only showing top 20 rows\n",
            "\n"
          ]
        }
      ]
    },
    {
      "cell_type": "code",
      "source": [
        "airports = flights.select(\"ORIGIN_AIRPORT_ID\", \"ORIGIN\").toDF(\"id\",\"name\").distinct()"
      ],
      "metadata": {
        "id": "IZnEPKfdDqDE"
      },
      "execution_count": 51,
      "outputs": []
    },
    {
      "cell_type": "code",
      "source": [
        "airportEdges = flights.select(\"ORIGIN\", \"DEST\").toDF(\"src\",\"dst\")"
      ],
      "metadata": {
        "id": "jt8itDXiEWOe"
      },
      "execution_count": 52,
      "outputs": []
    },
    {
      "cell_type": "code",
      "source": [
        "airportEdges.show()"
      ],
      "metadata": {
        "colab": {
          "base_uri": "https://localhost:8080/"
        },
        "id": "StH0R3fTEb5C",
        "outputId": "b823cf70-9e51-4765-ed01-e443338c5b1c"
      },
      "execution_count": 53,
      "outputs": [
        {
          "output_type": "stream",
          "name": "stdout",
          "text": [
            "+---+---+\n",
            "|src|dst|\n",
            "+---+---+\n",
            "|01A|A43|\n",
            "|06A|A43|\n",
            "|06A|A43|\n",
            "|1G4|BLD|\n",
            "|1G4|BLD|\n",
            "|1G4|BLD|\n",
            "|A01|FAI|\n",
            "|A04|A43|\n",
            "|A06|OME|\n",
            "|A20|ANC|\n",
            "|A20|SCC|\n",
            "|A27|FAI|\n",
            "|A29|A43|\n",
            "|A29|A43|\n",
            "|A43|01A|\n",
            "|A43|06A|\n",
            "|A43|06A|\n",
            "|A43|A04|\n",
            "|A43|A29|\n",
            "|A43|A29|\n",
            "+---+---+\n",
            "only showing top 20 rows\n",
            "\n"
          ]
        }
      ]
    },
    {
      "cell_type": "code",
      "source": [
        "airportGraph = GraphFrame(airports, airportEdges)"
      ],
      "metadata": {
        "colab": {
          "base_uri": "https://localhost:8080/"
        },
        "id": "miN7mT3CEeaW",
        "outputId": "caeae8d7-673e-47a2-ed53-f5ee2d8683b9"
      },
      "execution_count": 54,
      "outputs": [
        {
          "output_type": "stream",
          "name": "stderr",
          "text": [
            "/usr/local/lib/python3.10/dist-packages/pyspark/sql/dataframe.py:168: UserWarning: DataFrame.sql_ctx is an internal property, and will be removed in future releases. Use DataFrame.sparkSession instead.\n",
            "  warnings.warn(\n"
          ]
        }
      ]
    },
    {
      "cell_type": "code",
      "source": [
        "airportGraph.vertices.count()"
      ],
      "metadata": {
        "colab": {
          "base_uri": "https://localhost:8080/"
        },
        "id": "sGFdIzasEjTm",
        "outputId": "2143a7f3-dcd6-4635-ba4f-4ec50a1cfac8"
      },
      "execution_count": 55,
      "outputs": [
        {
          "output_type": "execute_result",
          "data": {
            "text/plain": [
              "908"
            ]
          },
          "metadata": {},
          "execution_count": 55
        }
      ]
    },
    {
      "cell_type": "code",
      "source": [
        "airportGraph.vertices.show()"
      ],
      "metadata": {
        "colab": {
          "base_uri": "https://localhost:8080/"
        },
        "id": "Q53OrPtmFfj6",
        "outputId": "1459f7f7-a779-4ff7-c28c-8ea13549a853"
      },
      "execution_count": 66,
      "outputs": [
        {
          "output_type": "stream",
          "name": "stdout",
          "text": [
            "+-----+----+\n",
            "|   id|name|\n",
            "+-----+----+\n",
            "|11086| CNO|\n",
            "|13230| MDT|\n",
            "|14006| PAH|\n",
            "|15153| TCL|\n",
            "|12635| KCG|\n",
            "|12916| LCI|\n",
            "|13342| MKE|\n",
            "|11559| ENN|\n",
            "|12365| IPT|\n",
            "|14122| PIT|\n",
            "|14512| RFD|\n",
            "|14543| RKS|\n",
            "|15171| TEK|\n",
            "|10747| BRO|\n",
            "|12184| HOM|\n",
            "|14130| PKA|\n",
            "|15012| STG|\n",
            "|10396| ATK|\n",
            "|10800| BUR|\n",
            "|12223| HTS|\n",
            "+-----+----+\n",
            "only showing top 20 rows\n",
            "\n"
          ]
        }
      ]
    },
    {
      "cell_type": "code",
      "source": [
        "airportGraph.edges.count()"
      ],
      "metadata": {
        "colab": {
          "base_uri": "https://localhost:8080/"
        },
        "id": "JiQ--urdEmjo",
        "outputId": "c0fbd3c0-0632-4653-8970-433284ca8059"
      },
      "execution_count": 56,
      "outputs": [
        {
          "output_type": "execute_result",
          "data": {
            "text/plain": [
              "34053"
            ]
          },
          "metadata": {},
          "execution_count": 56
        }
      ]
    },
    {
      "cell_type": "code",
      "source": [
        "airportGraph.inDegrees.show()"
      ],
      "metadata": {
        "colab": {
          "base_uri": "https://localhost:8080/"
        },
        "id": "ZiMAG_r8EpTq",
        "outputId": "44266545-2588-485e-de95-07f17f1c8392"
      },
      "execution_count": 58,
      "outputs": [
        {
          "output_type": "stream",
          "name": "stdout",
          "text": [
            "+---+--------+\n",
            "| id|inDegree|\n",
            "+---+--------+\n",
            "|LEB|       6|\n",
            "|VWD|       1|\n",
            "|HYL|       5|\n",
            "|KEB|       5|\n",
            "|BGM|       2|\n",
            "|DLG|      45|\n",
            "|TYE|       5|\n",
            "|OLF|       2|\n",
            "|ELI|      12|\n",
            "|INL|       2|\n",
            "|PSE|       7|\n",
            "|MSY|     257|\n",
            "|PPG|       2|\n",
            "|BNF|       1|\n",
            "|GEG|      82|\n",
            "|KNW|      10|\n",
            "|HVR|       1|\n",
            "|FOK|      12|\n",
            "|CDW|       8|\n",
            "|DRT|       5|\n",
            "+---+--------+\n",
            "only showing top 20 rows\n",
            "\n"
          ]
        }
      ]
    },
    {
      "cell_type": "code",
      "source": [
        "airportGraph.outDegrees.show()"
      ],
      "metadata": {
        "colab": {
          "base_uri": "https://localhost:8080/"
        },
        "id": "xZfduX0PEsL3",
        "outputId": "307f54f9-6498-4968-bfc2-ccde6ce644f5"
      },
      "execution_count": 60,
      "outputs": [
        {
          "output_type": "stream",
          "name": "stderr",
          "text": [
            "/usr/local/lib/python3.10/dist-packages/pyspark/sql/dataframe.py:147: UserWarning: DataFrame constructor is internal. Do not directly use it.\n",
            "  warnings.warn(\"DataFrame constructor is internal. Do not directly use it.\")\n"
          ]
        },
        {
          "output_type": "stream",
          "name": "stdout",
          "text": [
            "+---+---------+\n",
            "| id|outDegree|\n",
            "+---+---------+\n",
            "|BGM|        2|\n",
            "|HYL|        3|\n",
            "|KEB|        5|\n",
            "|LEB|        6|\n",
            "|VWD|        1|\n",
            "|DLG|       52|\n",
            "|ELI|       15|\n",
            "|INL|        2|\n",
            "|OLF|        1|\n",
            "|PSE|        6|\n",
            "|TYE|        5|\n",
            "|BNF|        1|\n",
            "|MSY|      256|\n",
            "|PPG|        2|\n",
            "|CDW|        4|\n",
            "|DRT|        5|\n",
            "|FOK|        8|\n",
            "|GEG|       79|\n",
            "|HVR|        1|\n",
            "|KNW|       11|\n",
            "+---+---------+\n",
            "only showing top 20 rows\n",
            "\n"
          ]
        }
      ]
    },
    {
      "cell_type": "code",
      "source": [
        "airportGraph.cache()"
      ],
      "metadata": {
        "colab": {
          "base_uri": "https://localhost:8080/"
        },
        "id": "u9iIQ9mnHDfo",
        "outputId": "92119106-1ea5-425a-dc0d-b900c9840686"
      },
      "execution_count": 73,
      "outputs": [
        {
          "output_type": "execute_result",
          "data": {
            "text/plain": [
              "GraphFrame(v:[id: string, name: string], e:[src: string, dst: string])"
            ]
          },
          "metadata": {},
          "execution_count": 73
        }
      ]
    },
    {
      "cell_type": "code",
      "source": [
        "bfs_result = airportGraph.bfs(\"id = 'DFW'\", \"id = 'MCO'\")"
      ],
      "metadata": {
        "id": "q-Fl4S2iHEeS"
      },
      "execution_count": 75,
      "outputs": []
    },
    {
      "cell_type": "code",
      "source": [
        "bfs_result.show()\n"
      ],
      "metadata": {
        "colab": {
          "base_uri": "https://localhost:8080/"
        },
        "id": "I-4bwSuUIK55",
        "outputId": "cfe23945-8129-4c0d-938a-192f7fd9fa07"
      },
      "execution_count": 78,
      "outputs": [
        {
          "output_type": "stream",
          "name": "stdout",
          "text": [
            "+---+----+\n",
            "| id|name|\n",
            "+---+----+\n",
            "+---+----+\n",
            "\n"
          ]
        }
      ]
    },
    {
      "cell_type": "code",
      "source": [
        "airportGraph.edges.where(\"src = 'DFW' and dest = 'MCO'\").groupBy(\"src\", \"dst\").count()"
      ],
      "metadata": {
        "colab": {
          "base_uri": "https://localhost:8080/",
          "height": 68
        },
        "id": "6x8JACKDEy1N",
        "outputId": "e8a6c0ed-e427-4ae5-d856-95932192ccb5"
      },
      "execution_count": 72,
      "outputs": [
        {
          "output_type": "execute_result",
          "data": {
            "text/plain": [
              "+---+---+-----+\n",
              "|src|dst|count|\n",
              "+---+---+-----+\n",
              "|DFW|MCO|   12|\n",
              "+---+---+-----+"
            ],
            "text/html": [
              "<table border='1'>\n",
              "<tr><th>src</th><th>dst</th><th>count</th></tr>\n",
              "<tr><td>DFW</td><td>MCO</td><td>12</td></tr>\n",
              "</table>\n"
            ]
          },
          "metadata": {},
          "execution_count": 72
        }
      ]
    },
    {
      "cell_type": "code",
      "source": [
        "result.show()"
      ],
      "metadata": {
        "id": "w6bPU06EFEXt"
      },
      "execution_count": null,
      "outputs": []
    }
  ]
}